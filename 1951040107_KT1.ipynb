{
  "nbformat": 4,
  "nbformat_minor": 0,
  "metadata": {
    "colab": {
      "name": "1951040107_KT1.ipynb",
      "provenance": [],
      "collapsed_sections": [],
      "authorship_tag": "ABX9TyMduuI6XrpymtYY19QJb3p8",
      "include_colab_link": true
    },
    "kernelspec": {
      "name": "python3",
      "display_name": "Python 3"
    },
    "language_info": {
      "name": "python"
    }
  },
  "cells": [
    {
      "cell_type": "markdown",
      "metadata": {
        "id": "view-in-github",
        "colab_type": "text"
      },
      "source": [
        "<a href=\"https://colab.research.google.com/github/anhvu2512/BUI-ANH-VU/blob/main/1951040107_KT1.ipynb\" target=\"_parent\"><img src=\"https://colab.research.google.com/assets/colab-badge.svg\" alt=\"Open In Colab\"/></a>"
      ]
    },
    {
      "cell_type": "markdown",
      "metadata": {
        "id": "ajp0moK3G357"
      },
      "source": [
        "Cau 1"
      ]
    },
    {
      "cell_type": "code",
      "metadata": {
        "id": "lVUJuYxDGFwd"
      },
      "source": [
        "print (\"CHUONG TRINH XAC DINH SO CHAN-LE\")\n",
        "a=float(input(\"Nhap vao so a: \"))\n",
        "if (a % 2) == 0:\n",
        "   print('Đây là số chẵn')\n",
        "else:\n",
        "   print('Đây là số lẻ')"
      ],
      "execution_count": null,
      "outputs": []
    },
    {
      "cell_type": "markdown",
      "metadata": {
        "id": "LHxXcQTBKRhX"
      },
      "source": [
        "Cau 2"
      ]
    },
    {
      "cell_type": "code",
      "metadata": {
        "id": "fwvdLE4hKSoG"
      },
      "source": [
        "def check_number(n):\n",
        "  for i in range(2,n):\n",
        "     if n % i == 0:\n",
        "       return False\n",
        "       return True\n",
        "while True:\n",
        "   n = int(input(\"Hãy nhập vào 1 số nguyên tố duy nhất \")) \n",
        "   if check_number(n) == False:\n",
        "     print(\"Xin hãy nhập lại...\")\n",
        "   else:\n",
        "     break"
      ],
      "execution_count": null,
      "outputs": []
    },
    {
      "cell_type": "markdown",
      "metadata": {
        "id": "eOwQs_ZxG7fU"
      },
      "source": [
        "Cau 3"
      ]
    },
    {
      "cell_type": "code",
      "metadata": {
        "id": "01T9sxK5GQW8"
      },
      "source": [
        "array=[1,3,5,7,9]\n",
        "def inverse_array(k):\n",
        "  print(list(reversed(array)))\n",
        "inverse_array(array)\n"
      ],
      "execution_count": null,
      "outputs": []
    },
    {
      "cell_type": "markdown",
      "metadata": {
        "id": "YW8KlQ_MIGKv"
      },
      "source": [
        "Cau 4"
      ]
    },
    {
      "cell_type": "code",
      "metadata": {
        "id": "wr7PD9QnIEVi"
      },
      "source": [
        "import math\n",
        "def fibonacci(n):\n",
        "    if (n < 0):\n",
        "        return -1;\n",
        "    elif (n == 0 or n == 1):\n",
        "        return n;\n",
        "    else:\n",
        "        return fibonacci(n - 1) + fibonacci(n - 2);\n",
        "n = int(input(\"Nhap vao so nguyen duong n = \"));\n",
        "print (\"Tat ca cac so fibonacci nho hon\",n);\n",
        "i = 1;\n",
        "fin = fibonacci(i);\n",
        "while(fin < n):\n",
        "    fin = fibonacci(i);\n",
        "    if (fin < n):\n",
        "        print(fin)\n",
        "    i = i + 1;"
      ],
      "execution_count": null,
      "outputs": []
    }
  ]
}